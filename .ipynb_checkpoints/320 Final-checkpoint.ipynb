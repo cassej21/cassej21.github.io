{
 "cells": [
  {
   "cell_type": "markdown",
   "metadata": {},
   "source": [
    "The goal of this project is to do some analysis to see some potentially interesting trends in Magic: The Gathering, hereafter referred to as MTG, cards over time. The main ones that will be examined are those that are potentially related to \"power creep\", the phenomenon in competitive games where over time, the power level of newer cards becomes greater than older cards."
   ]
  },
  {
   "cell_type": "code",
   "execution_count": 1,
   "metadata": {},
   "outputs": [],
   "source": [
    "import json\n",
    "import numpy as np\n",
    "import pandas as pd\n",
    "\n",
    "with open('AllPrintings.json') as json_file:\n",
    "    data = json.load(json_file)"
   ]
  },
  {
   "cell_type": "code",
   "execution_count": 13,
   "metadata": {},
   "outputs": [],
   "source": [
    "actual_sets = {}\n",
    "for set_name in data.keys():\n",
    "    sets = data[set_name]\n",
    "    if (sets['type'] == 'core' or sets['type'] == 'expansion'):\n",
    "        cards = sets['cards']\n",
    "        for card in sets['cards']:\n",
    "            if card['type'].includes('creature')\n",
    "        \n",
    "with open('sets.json', 'w') as json_file:\n",
    "  json.dump(actual_sets, json_file)"
   ]
  },
  {
   "cell_type": "code",
   "execution_count": null,
   "metadata": {},
   "outputs": [],
   "source": []
  }
 ],
 "metadata": {
  "kernelspec": {
   "display_name": "Python 3",
   "language": "python",
   "name": "python3"
  },
  "language_info": {
   "codemirror_mode": {
    "name": "ipython",
    "version": 3
   },
   "file_extension": ".py",
   "mimetype": "text/x-python",
   "name": "python",
   "nbconvert_exporter": "python",
   "pygments_lexer": "ipython3",
   "version": "3.7.4"
  }
 },
 "nbformat": 4,
 "nbformat_minor": 2
}
